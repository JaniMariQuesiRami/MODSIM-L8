{
  "cells": [
    {
      "cell_type": "code",
      "execution_count": 2,
      "metadata": {
        "colab": {
          "base_uri": "https://localhost:8080/"
        },
        "id": "bDTJy11v72EK",
        "outputId": "db0ce79c-91ad-431b-d36b-4e54bf704823"
      },
      "outputs": [
        {
          "name": "stdout",
          "output_type": "stream",
          "text": [
            "Collecting pulp\n",
            "  Downloading PuLP-2.9.0-py3-none-any.whl.metadata (5.4 kB)\n",
            "Downloading PuLP-2.9.0-py3-none-any.whl (17.7 MB)\n",
            "\u001b[2K   \u001b[90m━━━━━━━━━━━━━━━━━━━━━━━━━━━━━━━━━━━━━━━━\u001b[0m \u001b[32m17.7/17.7 MB\u001b[0m \u001b[31m54.1 MB/s\u001b[0m eta \u001b[36m0:00:00\u001b[0m\n",
            "\u001b[?25hInstalling collected packages: pulp\n",
            "Successfully installed pulp-2.9.0\n"
          ]
        }
      ],
      "source": [
        "!pip install pulp"
      ]
    },
    {
      "cell_type": "code",
      "execution_count": 6,
      "metadata": {},
      "outputs": [
        {
          "name": "stdout",
          "output_type": "stream",
          "text": [
            "Resultados de Programación Lineal:\n",
            "Selección óptima de objetos: [1, 2, 4, 5, 6, 7, 8, 10, 16, 17, 18, 19]\n",
            "Valor total de la recompensa: 91\n",
            "Peso total de la selección: 50\n"
          ]
        }
      ],
      "source": [
        "from pulp import LpMaximize, LpProblem, LpVariable, lpSum\n",
        "\n",
        "# Datos del problema\n",
        "values = [10, 12, 8, 5, 8, 5, 6, 7, 6, 12, 8, 8, 9, 8, 9, 8, 3, 7, 8, 5, 6]\n",
        "weights = [6, 7, 7, 3, 5, 2, 4, 5, 9, 3, 9, 8, 7, 8, 6, 5, 2, 3, 5, 4, 6]\n",
        "K = 50\n",
        "n = len(values)\n",
        "\n",
        "# Definir el problema\n",
        "model = LpProblem(name=\"knapsack-problem\", sense=LpMaximize)\n",
        "\n",
        "# Definir las variables de decisión (0 o 1 para cada objeto)\n",
        "x = [LpVariable(f\"x{i}\", cat=\"Binary\") for i in range(n)]\n",
        "\n",
        "# Función objetivo: maximizar el valor total\n",
        "model += lpSum(values[i] * x[i] for i in range(n)), \"Total_Value\"\n",
        "\n",
        "# Restricción de capacidad: el peso total no debe exceder K\n",
        "model += lpSum(weights[i] * x[i] for i in range(n)) <= K, \"Capacity\"\n",
        "\n",
        "# Resolver el problema\n",
        "model.solve()\n",
        "\n",
        "# Resultados de programación lineal\n",
        "selected_items_lp = [i + 1 for i in range(n) if x[i].value() == 1]\n",
        "total_value_lp = sum(values[i] for i in range(n) if x[i].value() == 1)\n",
        "total_weight_lp = sum(weights[i] for i in range(n) if x[i].value() == 1)\n",
        "\n",
        "print(\"Resultados de Programación Lineal:\")\n",
        "print(\"Selección óptima de objetos:\", selected_items_lp)\n",
        "print(\"Valor total de la recompensa:\", total_value_lp)\n",
        "print(\"Peso total de la selección:\", total_weight_lp)"
      ]
    },
    {
      "cell_type": "code",
      "execution_count": 5,
      "metadata": {
        "colab": {
          "base_uri": "https://localhost:8080/"
        },
        "id": "Vjh0q34SF6KK",
        "outputId": "73605e52-0d5d-4652-cb11-d07c46f195fd"
      },
      "outputs": [
        {
          "name": "stdout",
          "output_type": "stream",
          "text": [
            "Resultados de Programación Lineal:\n",
            "Selección óptima de objetos: [1, 2, 4, 5, 6, 7, 8, 10, 16, 17, 18, 19]\n",
            "Valor total de la recompensa: 91\n",
            "Peso total de la selección: 50\n",
            "\n",
            "Resultados del Algoritmo Genético:\n",
            "Selección óptima de objetos: [1, 2, 4, 5, 6, 7, 8, 10, 16, 17, 18, 19]\n",
            "Valor total de la recompensa: 91\n",
            "Peso total de la selección: 50\n",
            "\n",
            "Comparación de Resultados:\n",
            "¿Es la misma solución? True\n",
            "¿Es mejor o peor la solución del algoritmo genético? Igual\n"
          ]
        }
      ],
      "source": [
        "import random\n",
        "from pulp import LpMaximize, LpProblem, LpVariable, lpSum\n",
        "\n",
        "# Datos del problema\n",
        "values = [10, 12, 8, 5, 8, 5, 6, 7, 6, 12, 8, 8, 9, 8, 9, 8, 3, 7, 8, 5, 6]\n",
        "weights = [6, 7, 7, 3, 5, 2, 4, 5, 9, 3, 9, 8, 7, 8, 6, 5, 2, 3, 5, 4, 6]\n",
        "K = 50\n",
        "n = len(values)\n",
        "\n",
        "# Definir el problema\n",
        "model = LpProblem(name=\"knapsack-problem\", sense=LpMaximize)\n",
        "\n",
        "# Definir las variables de decisión (0 o 1 para cada objeto)\n",
        "x = [LpVariable(f\"x{i}\", cat=\"Binary\") for i in range(n)]\n",
        "\n",
        "# Función objetivo: maximizar el valor total\n",
        "model += lpSum(values[i] * x[i] for i in range(n)), \"Total_Value\"\n",
        "\n",
        "# Restricción de capacidad: el peso total no debe exceder K\n",
        "model += lpSum(weights[i] * x[i] for i in range(n)) <= K, \"Capacity\"\n",
        "\n",
        "# Resolver el problema\n",
        "model.solve()\n",
        "\n",
        "# Resultados de programación lineal\n",
        "selected_items_lp = [i + 1 for i in range(n) if x[i].value() == 1]\n",
        "total_value_lp = sum(values[i] for i in range(n) if x[i].value() == 1)\n",
        "total_weight_lp = sum(weights[i] for i in range(n) if x[i].value() == 1)\n",
        "\n",
        "print(\"Resultados de Programación Lineal:\")\n",
        "print(\"Selección óptima de objetos:\", selected_items_lp)\n",
        "print(\"Valor total de la recompensa:\", total_value_lp)\n",
        "print(\"Peso total de la selección:\", total_weight_lp)\n",
        "\n",
        "# Algoritmo Genético\n",
        "# Parámetros del algoritmo genético\n",
        "N = 50    # Tamaño de la población\n",
        "s = 0.5   # % de selección (50%)\n",
        "c = 0.8   # % de cruce (80%)\n",
        "m = 0.1   # % de mutación (10%)\n",
        "maxI = 200  # Máximo número de iteraciones\n",
        "\n",
        "# Funciones auxiliares\n",
        "def fitness(individual):\n",
        "    total_value = sum(individual[i] * values[i] for i in range(len(values)))\n",
        "    total_weight = sum(individual[i] * weights[i] for i in range(len(weights)))\n",
        "    if total_weight > K:\n",
        "        return 0  # Penalización si excede la capacidad\n",
        "    return total_value\n",
        "\n",
        "def selection(population):\n",
        "    population = sorted(population, key=fitness, reverse=True)\n",
        "    return population[:int(s * len(population))]\n",
        "\n",
        "def crossover(parent1, parent2):\n",
        "    point = random.randint(1, len(parent1) - 1)\n",
        "    child1 = parent1[:point] + parent2[point:]\n",
        "    child2 = parent2[:point] + parent1[point:]\n",
        "    return child1, child2\n",
        "\n",
        "def mutate(individual):\n",
        "    for i in range(len(individual)):\n",
        "        if random.random() < m:\n",
        "            individual[i] = 1 - individual[i]  # Cambia de 0 a 1 o de 1 a 0\n",
        "    return individual\n",
        "\n",
        "# Inicialización de la población\n",
        "population = [[random.randint(0, 1) for _ in range(len(values))] for _ in range(N)]\n",
        "\n",
        "# Algoritmo genético\n",
        "for iteration in range(maxI):\n",
        "    # Evaluación y selección\n",
        "    population = selection(population)\n",
        "\n",
        "    # Cruce\n",
        "    new_population = []\n",
        "    while len(new_population) < N * c:\n",
        "        parent1, parent2 = random.sample(population, 2)\n",
        "        child1, child2 = crossover(parent1, parent2)\n",
        "        new_population.extend([child1, child2])\n",
        "\n",
        "    # Mutación\n",
        "    population += [mutate(individual) for individual in new_population]\n",
        "\n",
        "    # Rellenar la población si es necesario\n",
        "    while len(population) < N:\n",
        "        population.append([random.randint(0, 1) for _ in range(len(values))])\n",
        "\n",
        "# Obtener la mejor solución\n",
        "best_solution = max(population, key=fitness)\n",
        "best_value = fitness(best_solution)\n",
        "best_weight = sum(best_solution[i] * weights[i] for i in range(len(weights)))\n",
        "\n",
        "print(\"\\nResultados del Algoritmo Genético:\")\n",
        "selected_items_ga = [i + 1 for i in range(n) if best_solution[i] == 1]\n",
        "print(\"Selección óptima de objetos:\", selected_items_ga)\n",
        "print(\"Valor total de la recompensa:\", best_value)\n",
        "print(\"Peso total de la selección:\", best_weight)\n",
        "\n",
        "# Comparación de resultados\n",
        "print(\"\\nComparación de Resultados:\")\n",
        "print(\"¿Es la misma solución?\", selected_items_lp == selected_items_ga)\n",
        "print(\"¿Es mejor o peor la solución del algoritmo genético?\", \"Mejor\" if best_value > total_value_lp else \"Peor\" if best_value < total_value_lp else \"Igual\")\n"
      ]
    }
  ],
  "metadata": {
    "colab": {
      "provenance": []
    },
    "kernelspec": {
      "display_name": "Python 3",
      "name": "python3"
    },
    "language_info": {
      "codemirror_mode": {
        "name": "ipython",
        "version": 3
      },
      "file_extension": ".py",
      "mimetype": "text/x-python",
      "name": "python",
      "nbconvert_exporter": "python",
      "pygments_lexer": "ipython3",
      "version": "3.10.0"
    }
  },
  "nbformat": 4,
  "nbformat_minor": 0
}
