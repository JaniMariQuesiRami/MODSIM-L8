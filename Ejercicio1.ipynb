{
 "cells": [
  {
   "cell_type": "code",
   "execution_count": 1,
   "metadata": {},
   "outputs": [
    {
     "name": "stdout",
     "output_type": "stream",
     "text": [
      "Mejor selección de objetos: [0, 1, 1]\n",
      "Valor total de la recompensa: 220\n",
      "Peso total de la selección: 50\n"
     ]
    }
   ],
   "source": [
    "import random\n",
    "\n",
    "# Datos del problema\n",
    "values = [60, 100, 120]  # Valores de los objetos\n",
    "weights = [10, 20, 30]    # Pesos de los objetos\n",
    "K = 50                    # Capacidad de la mochila\n",
    "\n",
    "# Parámetros del algoritmo genético\n",
    "N = 10    # Tamaño de la población\n",
    "s = 0.5   # % de selección (50%)\n",
    "c = 0.8   # % de cruce (80%)\n",
    "m = 0.1   # % de mutación (10%)\n",
    "maxI = 100  # Máximo número de iteraciones\n",
    "\n",
    "# Funciones auxiliares\n",
    "def fitness(individual):\n",
    "    total_value = sum(individual[i] * values[i] for i in range(len(values)))\n",
    "    total_weight = sum(individual[i] * weights[i] for i in range(len(weights)))\n",
    "    if total_weight > K:\n",
    "        return 0  # Penalización si excede la capacidad\n",
    "    return total_value\n",
    "\n",
    "def selection(population):\n",
    "    population = sorted(population, key=fitness, reverse=True)\n",
    "    return population[:int(s * len(population))]\n",
    "\n",
    "def crossover(parent1, parent2):\n",
    "    point = random.randint(1, len(parent1) - 1)\n",
    "    child1 = parent1[:point] + parent2[point:]\n",
    "    child2 = parent2[:point] + parent1[point:]\n",
    "    return child1, child2\n",
    "\n",
    "def mutate(individual):\n",
    "    for i in range(len(individual)):\n",
    "        if random.random() < m:\n",
    "            individual[i] = 1 - individual[i]  # Cambia de 0 a 1 o de 1 a 0\n",
    "    return individual\n",
    "\n",
    "# Inicialización de la población\n",
    "population = [[random.randint(0, 1) for _ in range(len(values))] for _ in range(N)]\n",
    "\n",
    "# Algoritmo genético\n",
    "for iteration in range(maxI):\n",
    "    # Evaluación y selección\n",
    "    population = selection(population)\n",
    "    \n",
    "    # Cruce\n",
    "    new_population = []\n",
    "    while len(new_population) < N * c:\n",
    "        parent1, parent2 = random.sample(population, 2)\n",
    "        child1, child2 = crossover(parent1, parent2)\n",
    "        new_population.extend([child1, child2])\n",
    "    \n",
    "    # Mutación\n",
    "    population += [mutate(individual) for individual in new_population]\n",
    "\n",
    "    # Rellenar la población si es necesario\n",
    "    while len(population) < N:\n",
    "        population.append([random.randint(0, 1) for _ in range(len(values))])\n",
    "\n",
    "# Obtener la mejor solución\n",
    "best_solution = max(population, key=fitness)\n",
    "best_value = fitness(best_solution)\n",
    "best_weight = sum(best_solution[i] * weights[i] for i in range(len(weights)))\n",
    "\n",
    "print(\"Mejor selección de objetos:\", best_solution)\n",
    "print(\"Valor total de la recompensa:\", best_value)\n",
    "print(\"Peso total de la selección:\", best_weight)\n",
    "print(\"Capacidad de la mochila permutaciones:\", K)\n",
    "vector binarioo"
   ]
  }
 ],
 "metadata": {
  "kernelspec": {
   "display_name": "Python 3",
   "language": "python",
   "name": "python3"
  },
  "language_info": {
   "codemirror_mode": {
    "name": "ipython",
    "version": 3
   },
   "file_extension": ".py",
   "mimetype": "text/x-python",
   "name": "python",
   "nbconvert_exporter": "python",
   "pygments_lexer": "ipython3",
   "version": "3.12.4"
  }
 },
 "nbformat": 4,
 "nbformat_minor": 2
}
