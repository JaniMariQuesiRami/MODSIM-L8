{
 "cells": [
  {
   "cell_type": "code",
   "execution_count": 1,
   "metadata": {},
   "outputs": [
    {
     "name": "stdout",
     "output_type": "stream",
     "text": [
      "Resultados de Programación Lineal:\n",
      "Selección óptima de objetos: [1, 2, 4, 5, 6, 7, 8, 10, 16, 17, 18, 19]\n",
      "Valor total de la recompensa: 91\n",
      "Peso total de la selección: 50\n"
     ]
    }
   ],
   "source": [
    "from pulp import LpMaximize, LpProblem, LpVariable, lpSum\n",
    "\n",
    "# Datos del problema\n",
    "values = [10, 12, 8, 5, 8, 5, 6, 7, 6, 12, 8, 8, 9, 8, 9, 8, 3, 7, 8, 5, 6]\n",
    "weights = [6, 7, 7, 3, 5, 2, 4, 5, 9, 3, 9, 8, 7, 8, 6, 5, 2, 3, 5, 4, 6]\n",
    "K = 50\n",
    "n = len(values)\n",
    "\n",
    "# Definir el problema\n",
    "model = LpProblem(name=\"knapsack-problem\", sense=LpMaximize)\n",
    "\n",
    "# Definir las variables de decisión (0 o 1 para cada objeto)\n",
    "x = [LpVariable(f\"x{i}\", cat=\"Binary\") for i in range(n)]\n",
    "\n",
    "# Función objetivo: maximizar el valor total\n",
    "model += lpSum(values[i] * x[i] for i in range(n)), \"Total_Value\"\n",
    "\n",
    "# Restricción de capacidad: el peso total no debe exceder K\n",
    "model += lpSum(weights[i] * x[i] for i in range(n)) <= K, \"Capacity\"\n",
    "\n",
    "# Resolver el problema\n",
    "model.solve()\n",
    "\n",
    "# Resultados de programación lineal\n",
    "selected_items_lp = [i + 1 for i in range(n) if x[i].value() == 1]\n",
    "total_value_lp = sum(values[i] for i in range(n) if x[i].value() == 1)\n",
    "total_weight_lp = sum(weights[i] for i in range(n) if x[i].value() == 1)\n",
    "\n",
    "print(\"Resultados de Programación Lineal:\")\n",
    "print(\"Selección óptima de objetos:\", selected_items_lp)\n",
    "print(\"Valor total de la recompensa:\", total_value_lp)\n",
    "print(\"Peso total de la selección:\", total_weight_lp)\n"
   ]
  }
 ],
 "metadata": {
  "kernelspec": {
   "display_name": "Python 3",
   "language": "python",
   "name": "python3"
  },
  "language_info": {
   "codemirror_mode": {
    "name": "ipython",
    "version": 3
   },
   "file_extension": ".py",
   "mimetype": "text/x-python",
   "name": "python",
   "nbconvert_exporter": "python",
   "pygments_lexer": "ipython3",
   "version": "3.10.0"
  }
 },
 "nbformat": 4,
 "nbformat_minor": 2
}
